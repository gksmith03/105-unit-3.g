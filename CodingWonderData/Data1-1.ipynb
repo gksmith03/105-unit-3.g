{
 "cells": [
  {
   "cell_type": "markdown",
   "id": "cbea6c1e-8158-4b40-a5a8-eeb14801594c",
   "metadata": {},
   "source": [
    "# Graham Data Observation and Manipulation\n",
    "\n",
    "These steps will observe how one can take a data set with unwanted duplicates of information, and trim that data down to a more clean looking display. Follow along as columns are removed from the data set to reduce repitition within our data. \n"
   ]
  },
  {
   "cell_type": "markdown",
   "id": "ee5dd85b-609f-4fec-b3e8-111cdc8a6cdc",
   "metadata": {},
   "source": [
    "## Before Starting:\n",
    "\n",
    "Before delving into the actual programming piece, you must upload your data such that it is a file accesible by Jupiter Launch, and you can see it in your sidebar to the left of your new notebook. \n",
    "\n",
    "This can be accomplished by downloading your csv data file to a recognizable folder within your downloads general folder. Open this folder such that all desired files are listed on your screen in the margins. Pandas and Python will pull from the files in these margins as you code them into your new notebook."
   ]
  },
  {
   "cell_type": "markdown",
   "id": "f9b620d3-1ce9-4e93-a5db-c3b5291999e3",
   "metadata": {},
   "source": [
    "## Programming:\n",
    "\n",
    "In order to play around with your data, you need to import the programming that you will use that will allow you to make any changes.\n",
    "\n",
    "1) To import Pandas, the programming with algorithms to store data in tabular data frames, use the command \"import pandas as pd\" \n",
    "\n",
    "Python will understand to import the Pandas program with the word, \"import\", and the word \"as\" will help to abridge abreviate \"pandas\" in a function to \"pd\".\n",
    "\n",
    "2) To import Numpy, the complementary coding that helps pandas with functions that are math based, use the command \"import numpy as np\"\n",
    "\n",
    "Python will understand to import the Numpy program with the word, \"import\", and the word \"as\" will help to shorten \"numpy\" to the letters \"np\" to make writing out functions more simple. "
   ]
  },
  {
   "cell_type": "code",
   "execution_count": 4,
   "id": "5cba7e11-5b94-43e1-afcb-ce4ab6d00927",
   "metadata": {},
   "outputs": [],
   "source": [
    "import numpy as np\n",
    "import pandas as pd"
   ]
  },
  {
   "cell_type": "markdown",
   "id": "ce7fd963-0318-416b-862a-496a268f2743",
   "metadata": {},
   "source": [
    "Next let's bring in the data set we wish to manipulate. To do so, we must organize a data frame that can read the specific file in your sidebar you wish to call into programming. \n",
    "\n",
    "- \"df\" establishes that you are coding a new data frame. \"=pd\" means you wish to use bring out the program pandas as we just previously established in the prior cell. \n",
    "\n",
    "1) Combine both these components followed by read_csv(\"_\") such that the new cell reads as, df=pd.read_csv(\"(filename)\")\n",
    "\n",
    "For the purpose of this example, the file we wish to import is titled, \"CarolinaPmDataUTF_8.csv\"\n"
   ]
  },
  {
   "cell_type": "code",
   "execution_count": null,
   "id": "8cdad23a-f868-41e7-bd04-83efc98bdabd",
   "metadata": {},
   "outputs": [],
   "source": [
    "df=pd.read_csv(\"CarolinaPMDataUTF_8.csv\")"
   ]
  },
  {
   "cell_type": "markdown",
   "id": "7a50cc7a-0b22-47dc-b54e-82a0a4dcd925",
   "metadata": {
    "tags": []
   },
   "source": [
    "## Understanding Components of Your Data Set\n",
    "\n",
    "It is important to understand the components of our data set. We know that there exists some dupplicates of column data, so let's import a function that will help us visualize the repeats we expect to manipulate. \n",
    "\n",
    "- \"dtypes\" is a function pandas uses to address the titles of the column data, and the type of data within each column. \n",
    "\n",
    "1) Still in the coding cell type, write \"df.dtypes\", and this should bring up a list of all your column titles\n",
    "\n",
    "(If there are repeats in titles, we will find functions to remove them from the data file.)\n",
    "\n"
   ]
  },
  {
   "cell_type": "code",
   "execution_count": 5,
   "id": "1a6169b7-359e-4deb-9539-d0863b298344",
   "metadata": {},
   "outputs": [
    {
     "data": {
      "text/plain": [
       "State                                    object\n",
       "State Code                              float64\n",
       "Year                                    float64\n",
       "Year Code                               float64\n",
       "Fine Particulate Matter (µg/m≥)         float64\n",
       "Fine Particulate Matter (µg/m≥) Code    float64\n",
       "Avg Fine Particulate Matter (µg/m≥)     float64\n",
       "dtype: object"
      ]
     },
     "execution_count": 5,
     "metadata": {},
     "output_type": "execute_result"
    }
   ],
   "source": [
    "df.dtypes"
   ]
  },
  {
   "cell_type": "markdown",
   "id": "dc3b354d-b155-4e82-a9ef-047c48141402",
   "metadata": {},
   "source": [
    "- \"float64\" is notation that python uses to say in this column there exists a wide range of dynamic numeric values (64 represents the amount of bits of computer memory used)\n",
    "\n",
    "- The columns with \"code\" included in the title for this data set are repeat values for another column of data. It would appear in the original data set \"code\" was used as some way to establish the data in another column, or as a function to help some other programmer read the data. Either way, this column doesn't add significant information, and takes up some space in our data set. "
   ]
  },
  {
   "cell_type": "markdown",
   "id": "fce0346e-5faf-4a50-9187-c65448bf064c",
   "metadata": {},
   "source": [
    "## Manipulating Data Set\n",
    "\n",
    "To only include the desired column titles, and the data associated with them, we insert a new data frame. This data frame will select our desired columns indicated by titles listed by quotations, and we set a range for how many rows of the data we wish to include. \n",
    "\n",
    "Write the function as follows: df[[\"(column_title)\", \"(other_column_title)\", etc. ]]\n",
    "\n",
    "   - To designate a range of rows we wish to include, add your desired range as follows: [lower bound: higher bound]\n",
    "   \n",
    "   (The programming will likely illustrate the first 5 rows and last 5 rows of a larger data set. The inclusion of rows in between is indicated by the series dots (...) meaning skip whats included in between.)"
   ]
  },
  {
   "cell_type": "code",
   "execution_count": 8,
   "id": "b8b856d1-9153-4406-83ae-30ae5d679ca8",
   "metadata": {},
   "outputs": [
    {
     "data": {
      "text/html": [
       "<div>\n",
       "<style scoped>\n",
       "    .dataframe tbody tr th:only-of-type {\n",
       "        vertical-align: middle;\n",
       "    }\n",
       "\n",
       "    .dataframe tbody tr th {\n",
       "        vertical-align: top;\n",
       "    }\n",
       "\n",
       "    .dataframe thead th {\n",
       "        text-align: right;\n",
       "    }\n",
       "</style>\n",
       "<table border=\"1\" class=\"dataframe\">\n",
       "  <thead>\n",
       "    <tr style=\"text-align: right;\">\n",
       "      <th></th>\n",
       "      <th>State</th>\n",
       "      <th>Year</th>\n",
       "      <th>Fine Particulate Matter (µg/m≥)</th>\n",
       "      <th>Avg Fine Particulate Matter (µg/m≥)</th>\n",
       "    </tr>\n",
       "  </thead>\n",
       "  <tbody>\n",
       "    <tr>\n",
       "      <th>0</th>\n",
       "      <td>North Carolina</td>\n",
       "      <td>2003.0</td>\n",
       "      <td>3.0</td>\n",
       "      <td>2.88</td>\n",
       "    </tr>\n",
       "    <tr>\n",
       "      <th>1</th>\n",
       "      <td>North Carolina</td>\n",
       "      <td>2003.0</td>\n",
       "      <td>4.0</td>\n",
       "      <td>4.00</td>\n",
       "    </tr>\n",
       "    <tr>\n",
       "      <th>2</th>\n",
       "      <td>North Carolina</td>\n",
       "      <td>2003.0</td>\n",
       "      <td>5.0</td>\n",
       "      <td>5.02</td>\n",
       "    </tr>\n",
       "    <tr>\n",
       "      <th>3</th>\n",
       "      <td>North Carolina</td>\n",
       "      <td>2003.0</td>\n",
       "      <td>6.0</td>\n",
       "      <td>5.95</td>\n",
       "    </tr>\n",
       "    <tr>\n",
       "      <th>4</th>\n",
       "      <td>North Carolina</td>\n",
       "      <td>2003.0</td>\n",
       "      <td>7.0</td>\n",
       "      <td>7.02</td>\n",
       "    </tr>\n",
       "    <tr>\n",
       "      <th>...</th>\n",
       "      <td>...</td>\n",
       "      <td>...</td>\n",
       "      <td>...</td>\n",
       "      <td>...</td>\n",
       "    </tr>\n",
       "    <tr>\n",
       "      <th>292</th>\n",
       "      <td>North Carolina</td>\n",
       "      <td>2011.0</td>\n",
       "      <td>26.0</td>\n",
       "      <td>25.93</td>\n",
       "    </tr>\n",
       "    <tr>\n",
       "      <th>293</th>\n",
       "      <td>North Carolina</td>\n",
       "      <td>2011.0</td>\n",
       "      <td>27.0</td>\n",
       "      <td>27.30</td>\n",
       "    </tr>\n",
       "    <tr>\n",
       "      <th>294</th>\n",
       "      <td>North Carolina</td>\n",
       "      <td>2011.0</td>\n",
       "      <td>28.0</td>\n",
       "      <td>27.74</td>\n",
       "    </tr>\n",
       "    <tr>\n",
       "      <th>295</th>\n",
       "      <td>North Carolina</td>\n",
       "      <td>2011.0</td>\n",
       "      <td>NaN</td>\n",
       "      <td>12.36</td>\n",
       "    </tr>\n",
       "    <tr>\n",
       "      <th>296</th>\n",
       "      <td>North Carolina</td>\n",
       "      <td>NaN</td>\n",
       "      <td>NaN</td>\n",
       "      <td>12.97</td>\n",
       "    </tr>\n",
       "  </tbody>\n",
       "</table>\n",
       "<p>297 rows × 4 columns</p>\n",
       "</div>"
      ],
      "text/plain": [
       "              State    Year  Fine Particulate Matter (µg/m≥)  \\\n",
       "0    North Carolina  2003.0                              3.0   \n",
       "1    North Carolina  2003.0                              4.0   \n",
       "2    North Carolina  2003.0                              5.0   \n",
       "3    North Carolina  2003.0                              6.0   \n",
       "4    North Carolina  2003.0                              7.0   \n",
       "..              ...     ...                              ...   \n",
       "292  North Carolina  2011.0                             26.0   \n",
       "293  North Carolina  2011.0                             27.0   \n",
       "294  North Carolina  2011.0                             28.0   \n",
       "295  North Carolina  2011.0                              NaN   \n",
       "296  North Carolina     NaN                              NaN   \n",
       "\n",
       "     Avg Fine Particulate Matter (µg/m≥)  \n",
       "0                                   2.88  \n",
       "1                                   4.00  \n",
       "2                                   5.02  \n",
       "3                                   5.95  \n",
       "4                                   7.02  \n",
       "..                                   ...  \n",
       "292                                25.93  \n",
       "293                                27.30  \n",
       "294                                27.74  \n",
       "295                                12.36  \n",
       "296                                12.97  \n",
       "\n",
       "[297 rows x 4 columns]"
      ]
     },
     "execution_count": 8,
     "metadata": {},
     "output_type": "execute_result"
    }
   ],
   "source": [
    "df[[\"State\", \"Year\", \"Fine Particulate Matter (µg/m≥)\", \"Avg Fine Particulate Matter (µg/m≥)\"]][0:297]"
   ]
  },
  {
   "cell_type": "markdown",
   "id": "da0d510b-9bd3-465b-9a39-0262c8d9808d",
   "metadata": {},
   "source": [
    "Now let's take our manipulated data set, and make a recognizable copy of it such that when exporting our data it can be easily moved under a new file title. \n",
    "\n",
    "Designate what your new data set will be titled, and qualify your new title by following the title in the cell by an =, the prior data frame used to manipulate your data, and \".copy()\" in order for Python to understand you wish to make a copy of your data set. \n",
    "\n",
    "Should all appear together as demonstrated below:"
   ]
  },
  {
   "cell_type": "code",
   "execution_count": 9,
   "id": "356e8091-57fb-4c47-981e-3df8aec32d79",
   "metadata": {},
   "outputs": [],
   "source": [
    "Data1 = df[[\"State\", \"Year\", \"Fine Particulate Matter (µg/m≥)\", \"Avg Fine Particulate Matter (µg/m≥)\"][0:297]].copy()"
   ]
  },
  {
   "cell_type": "code",
   "execution_count": 14,
   "id": "e5bf1b6b-dd51-4b86-8da4-fbdcedb9b46d",
   "metadata": {},
   "outputs": [
    {
     "data": {
      "text/html": [
       "<div>\n",
       "<style scoped>\n",
       "    .dataframe tbody tr th:only-of-type {\n",
       "        vertical-align: middle;\n",
       "    }\n",
       "\n",
       "    .dataframe tbody tr th {\n",
       "        vertical-align: top;\n",
       "    }\n",
       "\n",
       "    .dataframe thead th {\n",
       "        text-align: right;\n",
       "    }\n",
       "</style>\n",
       "<table border=\"1\" class=\"dataframe\">\n",
       "  <thead>\n",
       "    <tr style=\"text-align: right;\">\n",
       "      <th></th>\n",
       "      <th>State</th>\n",
       "      <th>Year</th>\n",
       "      <th>Fine Particulate Matter (µg/m≥)</th>\n",
       "      <th>Avg Fine Particulate Matter (µg/m≥)</th>\n",
       "    </tr>\n",
       "  </thead>\n",
       "  <tbody>\n",
       "    <tr>\n",
       "      <th>0</th>\n",
       "      <td>North Carolina</td>\n",
       "      <td>2003.0</td>\n",
       "      <td>3.0</td>\n",
       "      <td>2.88</td>\n",
       "    </tr>\n",
       "    <tr>\n",
       "      <th>1</th>\n",
       "      <td>North Carolina</td>\n",
       "      <td>2003.0</td>\n",
       "      <td>4.0</td>\n",
       "      <td>4.00</td>\n",
       "    </tr>\n",
       "    <tr>\n",
       "      <th>2</th>\n",
       "      <td>North Carolina</td>\n",
       "      <td>2003.0</td>\n",
       "      <td>5.0</td>\n",
       "      <td>5.02</td>\n",
       "    </tr>\n",
       "    <tr>\n",
       "      <th>3</th>\n",
       "      <td>North Carolina</td>\n",
       "      <td>2003.0</td>\n",
       "      <td>6.0</td>\n",
       "      <td>5.95</td>\n",
       "    </tr>\n",
       "    <tr>\n",
       "      <th>4</th>\n",
       "      <td>North Carolina</td>\n",
       "      <td>2003.0</td>\n",
       "      <td>7.0</td>\n",
       "      <td>7.02</td>\n",
       "    </tr>\n",
       "    <tr>\n",
       "      <th>...</th>\n",
       "      <td>...</td>\n",
       "      <td>...</td>\n",
       "      <td>...</td>\n",
       "      <td>...</td>\n",
       "    </tr>\n",
       "    <tr>\n",
       "      <th>293</th>\n",
       "      <td>North Carolina</td>\n",
       "      <td>2011.0</td>\n",
       "      <td>27.0</td>\n",
       "      <td>27.30</td>\n",
       "    </tr>\n",
       "    <tr>\n",
       "      <th>294</th>\n",
       "      <td>North Carolina</td>\n",
       "      <td>2011.0</td>\n",
       "      <td>28.0</td>\n",
       "      <td>27.74</td>\n",
       "    </tr>\n",
       "    <tr>\n",
       "      <th>295</th>\n",
       "      <td>North Carolina</td>\n",
       "      <td>2011.0</td>\n",
       "      <td>NaN</td>\n",
       "      <td>12.36</td>\n",
       "    </tr>\n",
       "    <tr>\n",
       "      <th>296</th>\n",
       "      <td>North Carolina</td>\n",
       "      <td>NaN</td>\n",
       "      <td>NaN</td>\n",
       "      <td>12.97</td>\n",
       "    </tr>\n",
       "    <tr>\n",
       "      <th>297</th>\n",
       "      <td>NaN</td>\n",
       "      <td>NaN</td>\n",
       "      <td>NaN</td>\n",
       "      <td>12.97</td>\n",
       "    </tr>\n",
       "  </tbody>\n",
       "</table>\n",
       "<p>298 rows × 4 columns</p>\n",
       "</div>"
      ],
      "text/plain": [
       "              State    Year  Fine Particulate Matter (µg/m≥)  \\\n",
       "0    North Carolina  2003.0                              3.0   \n",
       "1    North Carolina  2003.0                              4.0   \n",
       "2    North Carolina  2003.0                              5.0   \n",
       "3    North Carolina  2003.0                              6.0   \n",
       "4    North Carolina  2003.0                              7.0   \n",
       "..              ...     ...                              ...   \n",
       "293  North Carolina  2011.0                             27.0   \n",
       "294  North Carolina  2011.0                             28.0   \n",
       "295  North Carolina  2011.0                              NaN   \n",
       "296  North Carolina     NaN                              NaN   \n",
       "297             NaN     NaN                              NaN   \n",
       "\n",
       "     Avg Fine Particulate Matter (µg/m≥)  \n",
       "0                                   2.88  \n",
       "1                                   4.00  \n",
       "2                                   5.02  \n",
       "3                                   5.95  \n",
       "4                                   7.02  \n",
       "..                                   ...  \n",
       "293                                27.30  \n",
       "294                                27.74  \n",
       "295                                12.36  \n",
       "296                                12.97  \n",
       "297                                12.97  \n",
       "\n",
       "[298 rows x 4 columns]"
      ]
     },
     "execution_count": 14,
     "metadata": {},
     "output_type": "execute_result"
    }
   ],
   "source": [
    "Data1"
   ]
  },
  {
   "cell_type": "markdown",
   "id": "f815861d-4d8a-4df5-bdc8-49388d3348c8",
   "metadata": {},
   "source": [
    "Finally, if satisfied with your data's new appearance, we will export the data under a new csv file. \n",
    "\n",
    "In this final cell, we use the \"to_csv\" for python to recognize we desire to create a csv file of our data. \n",
    "\n",
    "We need to add a delimiter to our data though because in the process of manipulation Pandas created a new column of indices unrelated to our data set. To remove this random column of indices, use the function \"index=false\". This should entirely remove pandas's column, if not an error will be produced to communicate that the data frame couldn't be read. \n",
    "\n",
    "All together, the final cell should be written as follows, where \"Data1\" is in place of the new title of your data copy. "
   ]
  },
  {
   "cell_type": "code",
   "execution_count": 10,
   "id": "96de72ab-ec74-4442-9f58-be6a740bed3d",
   "metadata": {},
   "outputs": [],
   "source": [
    "Data1.to_csv(\"Data1.csv\", index=False)"
   ]
  }
 ],
 "metadata": {
  "kernelspec": {
   "display_name": "Python 3 (ipykernel)",
   "language": "python",
   "name": "python3"
  },
  "language_info": {
   "codemirror_mode": {
    "name": "ipython",
    "version": 3
   },
   "file_extension": ".py",
   "mimetype": "text/x-python",
   "name": "python",
   "nbconvert_exporter": "python",
   "pygments_lexer": "ipython3",
   "version": "3.9.13"
  }
 },
 "nbformat": 4,
 "nbformat_minor": 5
}
