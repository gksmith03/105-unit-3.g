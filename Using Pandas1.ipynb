{
 "cells": [
  {
   "cell_type": "markdown",
   "metadata": {},
   "source": [
    "# Using the Pandas Package for Data Analysis, pt.1\n",
    "\n",
    "This notebook will walk us through a quick tutorial in using the pandas package for data anlysis with python.\n",
    "\n",
    "### Overview of Tutorial\n",
    "\n",
    "Over the next 2 class sessions, we will use this tutorial to cover the following processes:\n",
    "\n",
    "*Day 1*\n",
    "1. importing the pandas package \n",
    "2. creating a dataframe\n",
    "3. exploring our dataframe's attributes\n",
    "\n",
    "*Day 2*\n",
    "4. using functions to filter our data\n",
    "5. using functions to merge and join our data\n",
    "6. creating a subset and exporting as a new .csv file"
   ]
  },
  {
   "cell_type": "markdown",
   "metadata": {},
   "source": [
    "### Acknowledgements\n",
    "\n",
    "This Pandas tutorial has been adapted from materials provided by the excellent staff at the Davis Library Research Hub.\n",
    "\n",
    "For more detailed examples and exericses, see thier [Python: Intro to Data lessons](https://unc-libraries-data.github.io/Python/Intro/Introduction_CrashCourse.html)"
   ]
  },
  {
   "cell_type": "markdown",
   "metadata": {},
   "source": [
    "### Importing Pandas\n",
    "\n",
    "#### Packages\n",
    "Packages provide additional tools and functions not present in base Python. Python includes a number of packages to start with, the Anaconda distribution which we've all downloaded for Unit 3 comes with the \"Pandas\" package already installed.\n",
    "\n",
    "Once you've installed a package, you can load it into your current Python session with the import function. Otherwise these functions will not be available.\n",
    "\n",
    "\n",
    "#### Pandas\n",
    "\n",
    "Like spreadsheets in Microsoft Excel, Pandas allows us to store our data in tabular, multi-dimensional objects (dataframes) with familiar features like rows, columns, and headers. This is useful because it makes management, manipulation, and cleaning of large datasets much easier than would be the case using Python's built-in data structures such as lists. Pandas also provides a wide range of useful tools for working with data once it has been stored and structured.\n",
    "\n",
    "Begin by importing the pandas package using the following command:\n"
   ]
  },
  {
   "cell_type": "code",
   "execution_count": 1,
   "metadata": {},
   "outputs": [],
   "source": [
    "import numpy as np\n",
    "import pandas as pd"
   ]
  },
  {
   "cell_type": "markdown",
   "metadata": {},
   "source": [
    "Notice that we load pandas with the usual `import pandas` and an extra `as pd` statement. This allows us to call functions from `pandas` with `pd.<function>` instead of `pandas.<function>` for convenience. `as pd` is **not** necessary to load the package.\n",
    "\n",
    "Note, we also imported the `numpy` package, which is going to help pandas do some of its math."
   ]
  },
  {
   "cell_type": "markdown",
   "metadata": {},
   "source": [
    "### Creating a DataFrame\n",
    "\n",
    "#### Working Directories & Relative Paths\n",
    "\n",
    "By now, you should have either downloaded the csv file \"CountyHealthData_2014-2015.csv\" from canvas, or saved your own data as a csv file. I've stored my copy in the same folder as this Jupyter Notebook. **NOTE:** make sure that your csv file is saved in the same working directory as your .ipynb notebook file that you will use. \n",
    "\n",
    "Remember that Jupyter Notebooks automatically set your working directory to the folder where the .ipynb is saved. You'll have to save the document at least once to set your directory, but once there you can use what's called relative file paths to access the files there.\n",
    "\n",
    "If a file is located in your working directory, its relative path is just the name of the file!\n",
    "\n",
    "#### Using the `pd.read_csv()` function\n",
    "\n",
    "`pd.read_csv` reads the tabular data from a Comma Separated Values (csv) file into a dataframe object that we'll define as `df`.\n",
    "\n",
    "To create our dataframe object we'll define our object `df` by executing the `pd.read_csv()`function on our data file by inserting the relative file path into the parathenses."
   ]
  },
  {
   "cell_type": "code",
   "execution_count": 6,
   "metadata": {},
   "outputs": [],
   "source": [
    "df=pd.read_csv(\"CarolinaPMDataUTF_8.csv\")"
   ]
  },
  {
   "cell_type": "markdown",
   "metadata": {},
   "source": [
    "### Exploring Our Dataframes\n",
    "\n",
    "#### Attributes"
   ]
  },
  {
   "cell_type": "markdown",
   "metadata": {},
   "source": [
    "A good first step in exploring our dataframe is to examine some of its basic attributes. Attributes contain **values** that provide  helpful information about the dataframe, that guide our interaction with the dataframe. In pandas, we access attributes with the following syntax:\n",
    "\n",
    "`<DataFrame name>.<attribute name>`\n",
    "\n",
    "We can use the `.shape` attribute to determine how many rows and columns (in that order) are available. The `.size` attribute gives us the number of cells in the dataframe (rows * columns)."
   ]
  },
  {
   "cell_type": "code",
   "execution_count": 7,
   "metadata": {},
   "outputs": [
    {
     "data": {
      "text/plain": [
       "(298, 7)"
      ]
     },
     "execution_count": 7,
     "metadata": {},
     "output_type": "execute_result"
    }
   ],
   "source": [
    "df.shape"
   ]
  },
  {
   "cell_type": "code",
   "execution_count": 8,
   "metadata": {},
   "outputs": [
    {
     "data": {
      "text/plain": [
       "2086"
      ]
     },
     "execution_count": 8,
     "metadata": {},
     "output_type": "execute_result"
    }
   ],
   "source": [
    "df.size"
   ]
  },
  {
   "cell_type": "code",
   "execution_count": 9,
   "metadata": {},
   "outputs": [
    {
     "data": {
      "text/plain": [
       "False"
      ]
     },
     "execution_count": 9,
     "metadata": {},
     "output_type": "execute_result"
    }
   ],
   "source": [
    "df.size == 6109 * 64"
   ]
  },
  {
   "cell_type": "markdown",
   "metadata": {},
   "source": [
    "Other useful attributes include:\n",
    "\n",
    "- `.columns` provides the column names for the Dataframe\n",
    "- `.dtypes` provides the pandas datatype for each column\n"
   ]
  },
  {
   "cell_type": "code",
   "execution_count": 10,
   "metadata": {},
   "outputs": [
    {
     "data": {
      "text/plain": [
       "Index(['State', 'State Code', 'Year', 'Year Code',\n",
       "       'Fine Particulate Matter (µg/m≥)',\n",
       "       'Fine Particulate Matter (µg/m≥) Code',\n",
       "       'Avg Fine Particulate Matter (µg/m≥)'],\n",
       "      dtype='object')"
      ]
     },
     "execution_count": 10,
     "metadata": {},
     "output_type": "execute_result"
    }
   ],
   "source": [
    "df.columns"
   ]
  },
  {
   "cell_type": "code",
   "execution_count": 11,
   "metadata": {},
   "outputs": [
    {
     "data": {
      "text/plain": [
       "State                                    object\n",
       "State Code                              float64\n",
       "Year                                    float64\n",
       "Year Code                               float64\n",
       "Fine Particulate Matter (µg/m≥)         float64\n",
       "Fine Particulate Matter (µg/m≥) Code    float64\n",
       "Avg Fine Particulate Matter (µg/m≥)     float64\n",
       "dtype: object"
      ]
     },
     "execution_count": 11,
     "metadata": {},
     "output_type": "execute_result"
    }
   ],
   "source": [
    "df.dtypes"
   ]
  },
  {
   "cell_type": "markdown",
   "metadata": {},
   "source": [
    "We'll also use attributes (`.loc` and `.iloc`) to interact with our dataframes on Friday."
   ]
  },
  {
   "cell_type": "markdown",
   "metadata": {},
   "source": [
    "#### Methods\n",
    "\n",
    "Much of the functionality for working with dataframes comes in the form of methods. Methods are specialized functions that only work for a certain type of object, with the syntax:\n",
    "\n",
    "`<object name>.<method>()`\n",
    "\n",
    "We can look at the first 5 or last 5 rows in the dataset directly with the `.head()` and `.tail()` methods."
   ]
  },
  {
   "cell_type": "code",
   "execution_count": 12,
   "metadata": {},
   "outputs": [
    {
     "data": {
      "text/html": [
       "<div>\n",
       "<style scoped>\n",
       "    .dataframe tbody tr th:only-of-type {\n",
       "        vertical-align: middle;\n",
       "    }\n",
       "\n",
       "    .dataframe tbody tr th {\n",
       "        vertical-align: top;\n",
       "    }\n",
       "\n",
       "    .dataframe thead th {\n",
       "        text-align: right;\n",
       "    }\n",
       "</style>\n",
       "<table border=\"1\" class=\"dataframe\">\n",
       "  <thead>\n",
       "    <tr style=\"text-align: right;\">\n",
       "      <th></th>\n",
       "      <th>State</th>\n",
       "      <th>State Code</th>\n",
       "      <th>Year</th>\n",
       "      <th>Year Code</th>\n",
       "      <th>Fine Particulate Matter (µg/m≥)</th>\n",
       "      <th>Fine Particulate Matter (µg/m≥) Code</th>\n",
       "      <th>Avg Fine Particulate Matter (µg/m≥)</th>\n",
       "    </tr>\n",
       "  </thead>\n",
       "  <tbody>\n",
       "    <tr>\n",
       "      <th>0</th>\n",
       "      <td>North Carolina</td>\n",
       "      <td>37.0</td>\n",
       "      <td>2003.0</td>\n",
       "      <td>2003.0</td>\n",
       "      <td>3.0</td>\n",
       "      <td>3.0</td>\n",
       "      <td>2.88</td>\n",
       "    </tr>\n",
       "    <tr>\n",
       "      <th>1</th>\n",
       "      <td>North Carolina</td>\n",
       "      <td>37.0</td>\n",
       "      <td>2003.0</td>\n",
       "      <td>2003.0</td>\n",
       "      <td>4.0</td>\n",
       "      <td>4.0</td>\n",
       "      <td>4.00</td>\n",
       "    </tr>\n",
       "    <tr>\n",
       "      <th>2</th>\n",
       "      <td>North Carolina</td>\n",
       "      <td>37.0</td>\n",
       "      <td>2003.0</td>\n",
       "      <td>2003.0</td>\n",
       "      <td>5.0</td>\n",
       "      <td>5.0</td>\n",
       "      <td>5.02</td>\n",
       "    </tr>\n",
       "    <tr>\n",
       "      <th>3</th>\n",
       "      <td>North Carolina</td>\n",
       "      <td>37.0</td>\n",
       "      <td>2003.0</td>\n",
       "      <td>2003.0</td>\n",
       "      <td>6.0</td>\n",
       "      <td>6.0</td>\n",
       "      <td>5.95</td>\n",
       "    </tr>\n",
       "    <tr>\n",
       "      <th>4</th>\n",
       "      <td>North Carolina</td>\n",
       "      <td>37.0</td>\n",
       "      <td>2003.0</td>\n",
       "      <td>2003.0</td>\n",
       "      <td>7.0</td>\n",
       "      <td>7.0</td>\n",
       "      <td>7.02</td>\n",
       "    </tr>\n",
       "  </tbody>\n",
       "</table>\n",
       "</div>"
      ],
      "text/plain": [
       "            State  State Code    Year  Year Code  \\\n",
       "0  North Carolina        37.0  2003.0     2003.0   \n",
       "1  North Carolina        37.0  2003.0     2003.0   \n",
       "2  North Carolina        37.0  2003.0     2003.0   \n",
       "3  North Carolina        37.0  2003.0     2003.0   \n",
       "4  North Carolina        37.0  2003.0     2003.0   \n",
       "\n",
       "   Fine Particulate Matter (µg/m≥)  Fine Particulate Matter (µg/m≥) Code  \\\n",
       "0                              3.0                                   3.0   \n",
       "1                              4.0                                   4.0   \n",
       "2                              5.0                                   5.0   \n",
       "3                              6.0                                   6.0   \n",
       "4                              7.0                                   7.0   \n",
       "\n",
       "   Avg Fine Particulate Matter (µg/m≥)  \n",
       "0                                 2.88  \n",
       "1                                 4.00  \n",
       "2                                 5.02  \n",
       "3                                 5.95  \n",
       "4                                 7.02  "
      ]
     },
     "execution_count": 12,
     "metadata": {},
     "output_type": "execute_result"
    }
   ],
   "source": [
    "df.head()"
   ]
  },
  {
   "cell_type": "code",
   "execution_count": 13,
   "metadata": {},
   "outputs": [
    {
     "data": {
      "text/html": [
       "<div>\n",
       "<style scoped>\n",
       "    .dataframe tbody tr th:only-of-type {\n",
       "        vertical-align: middle;\n",
       "    }\n",
       "\n",
       "    .dataframe tbody tr th {\n",
       "        vertical-align: top;\n",
       "    }\n",
       "\n",
       "    .dataframe thead th {\n",
       "        text-align: right;\n",
       "    }\n",
       "</style>\n",
       "<table border=\"1\" class=\"dataframe\">\n",
       "  <thead>\n",
       "    <tr style=\"text-align: right;\">\n",
       "      <th></th>\n",
       "      <th>State</th>\n",
       "      <th>State Code</th>\n",
       "      <th>Year</th>\n",
       "      <th>Year Code</th>\n",
       "      <th>Fine Particulate Matter (µg/m≥)</th>\n",
       "      <th>Fine Particulate Matter (µg/m≥) Code</th>\n",
       "      <th>Avg Fine Particulate Matter (µg/m≥)</th>\n",
       "    </tr>\n",
       "  </thead>\n",
       "  <tbody>\n",
       "    <tr>\n",
       "      <th>293</th>\n",
       "      <td>North Carolina</td>\n",
       "      <td>37.0</td>\n",
       "      <td>2011.0</td>\n",
       "      <td>2011.0</td>\n",
       "      <td>27.0</td>\n",
       "      <td>27.0</td>\n",
       "      <td>27.30</td>\n",
       "    </tr>\n",
       "    <tr>\n",
       "      <th>294</th>\n",
       "      <td>North Carolina</td>\n",
       "      <td>37.0</td>\n",
       "      <td>2011.0</td>\n",
       "      <td>2011.0</td>\n",
       "      <td>28.0</td>\n",
       "      <td>28.0</td>\n",
       "      <td>27.74</td>\n",
       "    </tr>\n",
       "    <tr>\n",
       "      <th>295</th>\n",
       "      <td>North Carolina</td>\n",
       "      <td>37.0</td>\n",
       "      <td>2011.0</td>\n",
       "      <td>2011.0</td>\n",
       "      <td>NaN</td>\n",
       "      <td>NaN</td>\n",
       "      <td>12.36</td>\n",
       "    </tr>\n",
       "    <tr>\n",
       "      <th>296</th>\n",
       "      <td>North Carolina</td>\n",
       "      <td>37.0</td>\n",
       "      <td>NaN</td>\n",
       "      <td>NaN</td>\n",
       "      <td>NaN</td>\n",
       "      <td>NaN</td>\n",
       "      <td>12.97</td>\n",
       "    </tr>\n",
       "    <tr>\n",
       "      <th>297</th>\n",
       "      <td>NaN</td>\n",
       "      <td>NaN</td>\n",
       "      <td>NaN</td>\n",
       "      <td>NaN</td>\n",
       "      <td>NaN</td>\n",
       "      <td>NaN</td>\n",
       "      <td>12.97</td>\n",
       "    </tr>\n",
       "  </tbody>\n",
       "</table>\n",
       "</div>"
      ],
      "text/plain": [
       "              State  State Code    Year  Year Code  \\\n",
       "293  North Carolina        37.0  2011.0     2011.0   \n",
       "294  North Carolina        37.0  2011.0     2011.0   \n",
       "295  North Carolina        37.0  2011.0     2011.0   \n",
       "296  North Carolina        37.0     NaN        NaN   \n",
       "297             NaN         NaN     NaN        NaN   \n",
       "\n",
       "     Fine Particulate Matter (µg/m≥)  Fine Particulate Matter (µg/m≥) Code  \\\n",
       "293                             27.0                                  27.0   \n",
       "294                             28.0                                  28.0   \n",
       "295                              NaN                                   NaN   \n",
       "296                              NaN                                   NaN   \n",
       "297                              NaN                                   NaN   \n",
       "\n",
       "     Avg Fine Particulate Matter (µg/m≥)  \n",
       "293                                27.30  \n",
       "294                                27.74  \n",
       "295                                12.36  \n",
       "296                                12.97  \n",
       "297                                12.97  "
      ]
     },
     "execution_count": 13,
     "metadata": {},
     "output_type": "execute_result"
    }
   ],
   "source": [
    "df.tail()"
   ]
  },
  {
   "cell_type": "markdown",
   "metadata": {},
   "source": [
    "Sometimes, our top and bottom rows aren't very representative, and we'd prefer to look at a random sample of rows to get a better sense of the data. We can do this with `.sample()` **Note** that we can supply the parameter `n` to specify how many rows we want to sample."
   ]
  },
  {
   "cell_type": "code",
   "execution_count": 14,
   "metadata": {},
   "outputs": [
    {
     "data": {
      "text/html": [
       "<div>\n",
       "<style scoped>\n",
       "    .dataframe tbody tr th:only-of-type {\n",
       "        vertical-align: middle;\n",
       "    }\n",
       "\n",
       "    .dataframe tbody tr th {\n",
       "        vertical-align: top;\n",
       "    }\n",
       "\n",
       "    .dataframe thead th {\n",
       "        text-align: right;\n",
       "    }\n",
       "</style>\n",
       "<table border=\"1\" class=\"dataframe\">\n",
       "  <thead>\n",
       "    <tr style=\"text-align: right;\">\n",
       "      <th></th>\n",
       "      <th>State</th>\n",
       "      <th>Region</th>\n",
       "      <th>Division</th>\n",
       "      <th>County</th>\n",
       "      <th>FIPS</th>\n",
       "      <th>GEOID</th>\n",
       "      <th>SMS Region</th>\n",
       "      <th>Year</th>\n",
       "      <th>Premature death</th>\n",
       "      <th>Poor or fair health</th>\n",
       "      <th>...</th>\n",
       "      <th>Drug poisoning deaths</th>\n",
       "      <th>Uninsured adults</th>\n",
       "      <th>Uninsured children</th>\n",
       "      <th>Health care costs</th>\n",
       "      <th>Could not see doctor due to cost</th>\n",
       "      <th>Other primary care providers</th>\n",
       "      <th>Median household income</th>\n",
       "      <th>Children eligible for free lunch</th>\n",
       "      <th>Homicide rate</th>\n",
       "      <th>Inadequate social support</th>\n",
       "    </tr>\n",
       "  </thead>\n",
       "  <tbody>\n",
       "    <tr>\n",
       "      <th>5801</th>\n",
       "      <td>WA</td>\n",
       "      <td>West</td>\n",
       "      <td>Pacific</td>\n",
       "      <td>Walla Walla County</td>\n",
       "      <td>53071</td>\n",
       "      <td>53071</td>\n",
       "      <td>Region 22</td>\n",
       "      <td>1/1/2014</td>\n",
       "      <td>6148.0</td>\n",
       "      <td>0.154</td>\n",
       "      <td>...</td>\n",
       "      <td>10.23</td>\n",
       "      <td>0.227</td>\n",
       "      <td>0.077</td>\n",
       "      <td>7262.0</td>\n",
       "      <td>0.143</td>\n",
       "      <td>64.0</td>\n",
       "      <td>45225</td>\n",
       "      <td>0.386</td>\n",
       "      <td>NaN</td>\n",
       "      <td>0.173</td>\n",
       "    </tr>\n",
       "    <tr>\n",
       "      <th>4047</th>\n",
       "      <td>OH</td>\n",
       "      <td>Midwest</td>\n",
       "      <td>East North Central</td>\n",
       "      <td>Hocking County</td>\n",
       "      <td>39073</td>\n",
       "      <td>39073</td>\n",
       "      <td>Region 27</td>\n",
       "      <td>1/1/2015</td>\n",
       "      <td>8189.0</td>\n",
       "      <td>0.186</td>\n",
       "      <td>...</td>\n",
       "      <td>21.91</td>\n",
       "      <td>0.178</td>\n",
       "      <td>0.065</td>\n",
       "      <td>10906.0</td>\n",
       "      <td>0.131</td>\n",
       "      <td>31.0</td>\n",
       "      <td>42376</td>\n",
       "      <td>0.532</td>\n",
       "      <td>NaN</td>\n",
       "      <td>NaN</td>\n",
       "    </tr>\n",
       "    <tr>\n",
       "      <th>8</th>\n",
       "      <td>AK</td>\n",
       "      <td>West</td>\n",
       "      <td>Pacific</td>\n",
       "      <td>Fairbanks North Star Borough</td>\n",
       "      <td>2090</td>\n",
       "      <td>2090</td>\n",
       "      <td>Region 22</td>\n",
       "      <td>1/1/2014</td>\n",
       "      <td>5740.0</td>\n",
       "      <td>0.110</td>\n",
       "      <td>...</td>\n",
       "      <td>12.29</td>\n",
       "      <td>0.251</td>\n",
       "      <td>0.115</td>\n",
       "      <td>6855.0</td>\n",
       "      <td>0.129</td>\n",
       "      <td>133.0</td>\n",
       "      <td>63979</td>\n",
       "      <td>0.161</td>\n",
       "      <td>4.92</td>\n",
       "      <td>0.168</td>\n",
       "    </tr>\n",
       "    <tr>\n",
       "      <th>3302</th>\n",
       "      <td>NC</td>\n",
       "      <td>South</td>\n",
       "      <td>South Atlantic</td>\n",
       "      <td>Davie County</td>\n",
       "      <td>37059</td>\n",
       "      <td>37059</td>\n",
       "      <td>Region 20</td>\n",
       "      <td>1/1/2015</td>\n",
       "      <td>6530.0</td>\n",
       "      <td>0.148</td>\n",
       "      <td>...</td>\n",
       "      <td>14.70</td>\n",
       "      <td>0.218</td>\n",
       "      <td>0.085</td>\n",
       "      <td>9955.0</td>\n",
       "      <td>0.144</td>\n",
       "      <td>46.0</td>\n",
       "      <td>49708</td>\n",
       "      <td>0.371</td>\n",
       "      <td>4.30</td>\n",
       "      <td>NaN</td>\n",
       "    </tr>\n",
       "    <tr>\n",
       "      <th>889</th>\n",
       "      <td>GA</td>\n",
       "      <td>South</td>\n",
       "      <td>South Atlantic</td>\n",
       "      <td>Hancock County</td>\n",
       "      <td>13141</td>\n",
       "      <td>13141</td>\n",
       "      <td>Region 24</td>\n",
       "      <td>1/1/2015</td>\n",
       "      <td>9600.0</td>\n",
       "      <td>NaN</td>\n",
       "      <td>...</td>\n",
       "      <td>NaN</td>\n",
       "      <td>0.243</td>\n",
       "      <td>0.070</td>\n",
       "      <td>8402.0</td>\n",
       "      <td>NaN</td>\n",
       "      <td>NaN</td>\n",
       "      <td>26281</td>\n",
       "      <td>0.699</td>\n",
       "      <td>NaN</td>\n",
       "      <td>NaN</td>\n",
       "    </tr>\n",
       "  </tbody>\n",
       "</table>\n",
       "<p>5 rows × 64 columns</p>\n",
       "</div>"
      ],
      "text/plain": [
       "     State   Region            Division                        County   FIPS  \\\n",
       "5801    WA     West             Pacific            Walla Walla County  53071   \n",
       "4047    OH  Midwest  East North Central                Hocking County  39073   \n",
       "8       AK     West             Pacific  Fairbanks North Star Borough   2090   \n",
       "3302    NC    South      South Atlantic                  Davie County  37059   \n",
       "889     GA    South      South Atlantic                Hancock County  13141   \n",
       "\n",
       "      GEOID SMS Region      Year  Premature death  Poor or fair health  ...  \\\n",
       "5801  53071  Region 22  1/1/2014           6148.0                0.154  ...   \n",
       "4047  39073  Region 27  1/1/2015           8189.0                0.186  ...   \n",
       "8      2090  Region 22  1/1/2014           5740.0                0.110  ...   \n",
       "3302  37059  Region 20  1/1/2015           6530.0                0.148  ...   \n",
       "889   13141  Region 24  1/1/2015           9600.0                  NaN  ...   \n",
       "\n",
       "      Drug poisoning deaths  Uninsured adults  Uninsured children  \\\n",
       "5801                  10.23             0.227               0.077   \n",
       "4047                  21.91             0.178               0.065   \n",
       "8                     12.29             0.251               0.115   \n",
       "3302                  14.70             0.218               0.085   \n",
       "889                     NaN             0.243               0.070   \n",
       "\n",
       "      Health care costs  Could not see doctor due to cost  \\\n",
       "5801             7262.0                             0.143   \n",
       "4047            10906.0                             0.131   \n",
       "8                6855.0                             0.129   \n",
       "3302             9955.0                             0.144   \n",
       "889              8402.0                               NaN   \n",
       "\n",
       "      Other primary care providers  Median household income  \\\n",
       "5801                          64.0                    45225   \n",
       "4047                          31.0                    42376   \n",
       "8                            133.0                    63979   \n",
       "3302                          46.0                    49708   \n",
       "889                            NaN                    26281   \n",
       "\n",
       "      Children eligible for free lunch  Homicide rate  \\\n",
       "5801                             0.386            NaN   \n",
       "4047                             0.532            NaN   \n",
       "8                                0.161           4.92   \n",
       "3302                             0.371           4.30   \n",
       "889                              0.699            NaN   \n",
       "\n",
       "      Inadequate social support  \n",
       "5801                      0.173  \n",
       "4047                        NaN  \n",
       "8                         0.168  \n",
       "3302                        NaN  \n",
       "889                         NaN  \n",
       "\n",
       "[5 rows x 64 columns]"
      ]
     },
     "execution_count": 14,
     "metadata": {},
     "output_type": "execute_result"
    }
   ],
   "source": [
    "df.sample(n=5)"
   ]
  },
  {
   "cell_type": "markdown",
   "metadata": {},
   "source": [
    "#### Series\n",
    "\n",
    "We can think of our dataframe as a collection rows and columns where each row represents an \"observation\"—sometimes referred to as a 'record'—and each column contains a specific type of information collected about each observation. \n",
    "\n",
    "In Pandas, our columns are stored as what's called 'Series' objects, and our dataframes can be thought of as named collections of series.\n",
    "\n",
    "We can extract a single column in a couple of ways:\n",
    "\n",
    "- bracket notation: `df[\"Region\"]` This is the most robust way to refer to Series\n",
    "\n",
    "- dot notation: `df.Region` This is simpler and easier to read but not always available\n",
    "\n",
    "\n",
    "In some cases, dot notation does not work! The most common situations are:\n",
    "\n",
    "- The column name has a space, or other irregularities \n",
    "- The column name is the same as an existing attribute or method (e.g., a column named \"shape\")\n",
    "\n",
    "For example, in our Public Health dataFrame, `df.Uninsured adults` doesn't work, because \"Uninsured adults\" is not understood as a single value, so instead we'd use `df[\"Uninsured adults\"]`\n",
    "\n",
    "Series have their own set of attributes and methods just like dataframes. Some attributes like `.dtypes` and `.shape` are available for both."
   ]
  },
  {
   "cell_type": "code",
   "execution_count": 16,
   "metadata": {},
   "outputs": [
    {
     "name": "stdout",
     "output_type": "stream",
     "text": [
      "(298,)\n",
      "object\n"
     ]
    }
   ],
   "source": [
    "print(df.State.shape)\n",
    "print(df.State.dtypes)"
   ]
  },
  {
   "cell_type": "code",
   "execution_count": 15,
   "metadata": {},
   "outputs": [
    {
     "data": {
      "text/plain": [
       "(298,)"
      ]
     },
     "execution_count": 15,
     "metadata": {},
     "output_type": "execute_result"
    }
   ],
   "source": [
    "df.State.shape"
   ]
  },
  {
   "cell_type": "code",
   "execution_count": 18,
   "metadata": {},
   "outputs": [
    {
     "name": "stdout",
     "output_type": "stream",
     "text": [
      "object\n"
     ]
    }
   ],
   "source": [
    "print(df.Region.dtypes)"
   ]
  },
  {
   "cell_type": "markdown",
   "metadata": {},
   "source": [
    "One of the most useful methods for categorical variables is `.value_counts()` which provides a frequency table."
   ]
  },
  {
   "cell_type": "code",
   "execution_count": 23,
   "metadata": {},
   "outputs": [
    {
     "ename": "SyntaxError",
     "evalue": "invalid syntax (897572918.py, line 1)",
     "output_type": "error",
     "traceback": [
      "\u001b[0;36m  File \u001b[0;32m\"/var/folders/35/rlpmpd7s70n6y2pwqg_jvq3w0000gn/T/ipykernel_9415/897572918.py\"\u001b[0;36m, line \u001b[0;32m1\u001b[0m\n\u001b[0;31m    df.[\"FineParticulateMatter(µg/m≥)\"]\u001b[0m\n\u001b[0m       ^\u001b[0m\n\u001b[0;31mSyntaxError\u001b[0m\u001b[0;31m:\u001b[0m invalid syntax\n"
     ]
    }
   ],
   "source": [
    "df[\"FineParticulateMatter(µg/m≥)\"]"
   ]
  },
  {
   "cell_type": "markdown",
   "metadata": {},
   "source": [
    "This can also be used on top of other attributes or methods that return series. For example, the code below shows how frequently each data type appears in our dataframe."
   ]
  },
  {
   "cell_type": "code",
   "execution_count": 20,
   "metadata": {},
   "outputs": [
    {
     "data": {
      "text/plain": [
       "float64    54\n",
       "object      6\n",
       "int64       4\n",
       "dtype: int64"
      ]
     },
     "execution_count": 20,
     "metadata": {},
     "output_type": "execute_result"
    }
   ],
   "source": [
    "df.dtypes.value_counts()"
   ]
  },
  {
   "cell_type": "markdown",
   "metadata": {},
   "source": [
    "So for example, we might call up a value count of the series \"State\" to get a more granular sense of our dataframe's geographical dispersal."
   ]
  },
  {
   "cell_type": "code",
   "execution_count": 21,
   "metadata": {},
   "outputs": [
    {
     "data": {
      "text/plain": [
       "TX    469\n",
       "GA    318\n",
       "VA    266\n",
       "KY    240\n",
       "MO    229\n",
       "IL    204\n",
       "NC    200\n",
       "KS    199\n",
       "IA    198\n",
       "TN    190\n",
       "IN    184\n",
       "OH    176\n",
       "MN    174\n",
       "MI    164\n",
       "MS    163\n",
       "NE    157\n",
       "OK    154\n",
       "AR    150\n",
       "WI    144\n",
       "PA    134\n",
       "FL    134\n",
       "AL    134\n",
       "LA    128\n",
       "NY    124\n",
       "CO    119\n",
       "SD    117\n",
       "CA    114\n",
       "WV    110\n",
       "MT     92\n",
       "SC     92\n",
       "ND     92\n",
       "ID     84\n",
       "WA     78\n",
       "OR     67\n",
       "NM     64\n",
       "UT     54\n",
       "MD     48\n",
       "AK     46\n",
       "WY     46\n",
       "NJ     42\n",
       "NV     32\n",
       "ME     32\n",
       "AZ     30\n",
       "VT     28\n",
       "MA     28\n",
       "NH     20\n",
       "CT     16\n",
       "RI     10\n",
       "HI      8\n",
       "DE      6\n",
       "DC      1\n",
       "Name: State, dtype: int64"
      ]
     },
     "execution_count": 21,
     "metadata": {},
     "output_type": "execute_result"
    }
   ],
   "source": [
    "df.State.value_counts()"
   ]
  },
  {
   "cell_type": "markdown",
   "metadata": {},
   "source": [
    "#### Now open the `.ipyn` files you created last time: \n",
    "1. import pandas and numpy\n",
    "2. create a dataframe using `pd.read_csv`\n",
    "3. start explorng your own data!"
   ]
  },
  {
   "cell_type": "code",
   "execution_count": null,
   "metadata": {},
   "outputs": [],
   "source": []
  }
 ],
 "metadata": {
  "kernelspec": {
   "display_name": "Python 3 (ipykernel)",
   "language": "python",
   "name": "python3"
  },
  "language_info": {
   "codemirror_mode": {
    "name": "ipython",
    "version": 3
   },
   "file_extension": ".py",
   "mimetype": "text/x-python",
   "name": "python",
   "nbconvert_exporter": "python",
   "pygments_lexer": "ipython3",
   "version": "3.9.13"
  }
 },
 "nbformat": 4,
 "nbformat_minor": 4
}
